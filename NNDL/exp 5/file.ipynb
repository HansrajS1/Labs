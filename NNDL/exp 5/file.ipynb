{
 "cells": [
  {
   "cell_type": "code",
   "execution_count": 28,
   "metadata": {},
   "outputs": [],
   "source": [
    "import tensorflow as tf\n",
    "from tensorflow.keras.models import Sequential\n",
    "from tensorflow.keras.layers import Dense, Dropout\n",
    "from tensorflow.keras.optimizers import SGD\n",
    "from sklearn.model_selection import train_test_split\n",
    "from sklearn.datasets import load_breast_cancer\n",
    "from sklearn.preprocessing import StandardScaler"
   ]
  },
  {
   "cell_type": "code",
   "execution_count": 29,
   "metadata": {},
   "outputs": [],
   "source": [
    "data = load_breast_cancer()\n",
    "X = data.data\n",
    "y = data.target"
   ]
  },
  {
   "cell_type": "code",
   "execution_count": 30,
   "metadata": {},
   "outputs": [],
   "source": [
    "scaler = StandardScaler()\n",
    "X = scaler.fit_transform(X)"
   ]
  },
  {
   "cell_type": "code",
   "execution_count": 31,
   "metadata": {},
   "outputs": [],
   "source": [
    "X_train, X_val, y_train, y_val = train_test_split(X, y, test_size=0.2, random_state=42)"
   ]
  },
  {
   "cell_type": "code",
   "execution_count": 32,
   "metadata": {},
   "outputs": [],
   "source": [
    "def build_model(learning_rate, dropout_rate):\n",
    "    model = Sequential([\n",
    "        Dense(64, activation='relu', input_shape=(X_train.shape[1],)),\n",
    "        Dropout(dropout_rate),\n",
    "        Dense(32, activation='relu'),\n",
    "        Dropout(dropout_rate),\n",
    "        Dense(1, activation='sigmoid')\n",
    "    ])\n",
    "    \n",
    "    optimizer = Adam(learning_rate=learning_rate)\n",
    "    model.compile(optimizer=optimizer, loss='binary_crossentropy', metrics=['accuracy'])\n",
    "    return model"
   ]
  },
  {
   "cell_type": "code",
   "execution_count": 33,
   "metadata": {},
   "outputs": [],
   "source": [
    "default_lr = 0.001\n",
    "default_batch_size = 32\n",
    "default_dropout_rate = 0.5"
   ]
  },
  {
   "cell_type": "code",
   "execution_count": 34,
   "metadata": {},
   "outputs": [
    {
     "name": "stderr",
     "output_type": "stream",
     "text": [
      "c:\\Users\\hansr\\AppData\\Local\\Programs\\Python\\Python312\\Lib\\site-packages\\keras\\src\\layers\\core\\dense.py:87: UserWarning: Do not pass an `input_shape`/`input_dim` argument to a layer. When using Sequential models, prefer using an `Input(shape)` object as the first layer in the model instead.\n",
      "  super().__init__(activity_regularizer=activity_regularizer, **kwargs)\n"
     ]
    }
   ],
   "source": [
    "default_model = build_model(learning_rate=default_lr, dropout_rate=default_dropout_rate)\n",
    "default_history = default_model.fit(X_train, y_train, epochs=20, batch_size=default_batch_size,validation_data=(X_val, y_val), verbose=0)"
   ]
  },
  {
   "cell_type": "code",
   "execution_count": 35,
   "metadata": {},
   "outputs": [
    {
     "name": "stdout",
     "output_type": "stream",
     "text": [
      "Default validation accuracy: 0.9737\n"
     ]
    }
   ],
   "source": [
    "default_val_loss, default_val_accuracy = default_model.evaluate(X_val, y_val, verbose=0)\n",
    "print(f\"Default validation accuracy: {default_val_accuracy:.4f}\")"
   ]
  },
  {
   "cell_type": "code",
   "execution_count": 36,
   "metadata": {},
   "outputs": [],
   "source": [
    "learning_rates = [0.001, 0.0001, 0.00001]\n",
    "batch_sizes = [16, 32, 64]\n",
    "dropout_rate = 0.5"
   ]
  },
  {
   "cell_type": "code",
   "execution_count": null,
   "metadata": {},
   "outputs": [],
   "source": [
    "best_accuracy = 0\n",
    "best_params = {}"
   ]
  },
  {
   "cell_type": "code",
   "execution_count": 37,
   "metadata": {},
   "outputs": [
    {
     "name": "stdout",
     "output_type": "stream",
     "text": [
      "Training with learning_rate=0.001 and batch_size=16\n",
      "Validation accuracy: 0.9737\n",
      "Training with learning_rate=0.001 and batch_size=32\n",
      "Validation accuracy: 0.9737\n",
      "Training with learning_rate=0.001 and batch_size=64\n",
      "Validation accuracy: 0.9825\n",
      "Training with learning_rate=0.0001 and batch_size=16\n",
      "Validation accuracy: 0.9561\n",
      "Training with learning_rate=0.0001 and batch_size=32\n",
      "Validation accuracy: 0.9649\n",
      "Training with learning_rate=0.0001 and batch_size=64\n",
      "Validation accuracy: 0.9298\n",
      "Training with learning_rate=1e-05 and batch_size=16\n",
      "Validation accuracy: 0.9298\n",
      "Training with learning_rate=1e-05 and batch_size=32\n",
      "Validation accuracy: 0.3596\n",
      "Training with learning_rate=1e-05 and batch_size=64\n",
      "Validation accuracy: 0.6053\n"
     ]
    }
   ],
   "source": [
    "for lr in learning_rates:\n",
    "    for batch_size in batch_sizes:\n",
    "        print(f\"Training with learning_rate={lr} and batch_size={batch_size}\")\n",
    "        \n",
    "        model = build_model(learning_rate=lr, dropout_rate=dropout_rate)\n",
    "        history = model.fit(X_train, y_train, epochs=20, batch_size=batch_size, \n",
    "                            validation_data=(X_val, y_val), verbose=0)\n",
    "        \n",
    "        val_loss, val_accuracy = model.evaluate(X_val, y_val, verbose=0)\n",
    "        print(f\"Validation accuracy: {val_accuracy:.4f}\")\n",
    "        \n",
    "        if val_accuracy > best_accuracy:\n",
    "            best_accuracy = val_accuracy\n",
    "            best_params = {'learning_rate': lr, 'batch_size': batch_size}"
   ]
  },
  {
   "cell_type": "code",
   "execution_count": 38,
   "metadata": {},
   "outputs": [
    {
     "name": "stdout",
     "output_type": "stream",
     "text": [
      "Before Hyperparameter Tuning - Validation Accuracy: 0.9737\n",
      "After Hyperparameter Tuning - Best Validation Accuracy: 0.9825\n",
      "Best Hyperparameters: {'learning_rate': 0.001, 'batch_size': 64}\n"
     ]
    }
   ],
   "source": [
    "print(f\"Before Hyperparameter Tuning - Validation Accuracy: {default_val_accuracy:.4f}\")\n",
    "print(f\"After Hyperparameter Tuning - Best Validation Accuracy: {best_accuracy:.4f}\")\n",
    "print(f\"Best Hyperparameters: {best_params}\")"
   ]
  },
  {
   "cell_type": "code",
   "execution_count": null,
   "metadata": {},
   "outputs": [],
   "source": []
  }
 ],
 "metadata": {
  "kernelspec": {
   "display_name": "Python 3",
   "language": "python",
   "name": "python3"
  },
  "language_info": {
   "codemirror_mode": {
    "name": "ipython",
    "version": 3
   },
   "file_extension": ".py",
   "mimetype": "text/x-python",
   "name": "python",
   "nbconvert_exporter": "python",
   "pygments_lexer": "ipython3",
   "version": "3.12.4"
  }
 },
 "nbformat": 4,
 "nbformat_minor": 2
}
