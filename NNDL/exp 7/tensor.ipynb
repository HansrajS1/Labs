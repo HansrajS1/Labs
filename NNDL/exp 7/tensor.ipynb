{
 "cells": [
  {
   "cell_type": "code",
   "execution_count": 1,
   "metadata": {},
   "outputs": [],
   "source": [
    "import torch\n",
    "import torch.nn as nn\n",
    "import torch.nn.functional as F"
   ]
  },
  {
   "cell_type": "code",
   "execution_count": 3,
   "metadata": {},
   "outputs": [
    {
     "name": "stdout",
     "output_type": "stream",
     "text": [
      "Original tensor:\n",
      "tensor([[1, 2, 3],\n",
      "        [4, 5, 6]])\n"
     ]
    }
   ],
   "source": [
    "tensor=torch.tensor([[1,2,3],[4,5,6]])\n",
    "print(\"Original tensor:\")\n",
    "print(tensor)\n"
   ]
  },
  {
   "cell_type": "code",
   "execution_count": 4,
   "metadata": {},
   "outputs": [
    {
     "name": "stdout",
     "output_type": "stream",
     "text": [
      "Padded tensor:\n",
      "tensor([[1, 2, 3],\n",
      "        [4, 5, 6],\n",
      "        [0, 0, 0]])\n"
     ]
    }
   ],
   "source": [
    "target_shape= (3,3)\n",
    "curernt_shape=tensor.shape\n",
    "pad_left=0\n",
    "pad_right=0\n",
    "pad_top=0\n",
    "pad_bottom=0\n",
    "if curernt_shape[0]<target_shape[0]:\n",
    "    pad_bottom=target_shape[0]-curernt_shape[0]\n",
    "if curernt_shape[1]<target_shape[1]:\n",
    "    pad_right=target_shape[1]-curernt_shape[1]\n",
    "padding=(pad_left,pad_right,pad_top,pad_bottom)\n",
    "padded_tensor=F.pad(tensor,padding,\"constant\",0)\n",
    "print(\"Padded tensor:\")\n",
    "print(padded_tensor)"
   ]
  },
  {
   "cell_type": "code",
   "execution_count": null,
   "metadata": {},
   "outputs": [],
   "source": []
  }
 ],
 "metadata": {
  "kernelspec": {
   "display_name": "Python 3",
   "language": "python",
   "name": "python3"
  },
  "language_info": {
   "codemirror_mode": {
    "name": "ipython",
    "version": 3
   },
   "file_extension": ".py",
   "mimetype": "text/x-python",
   "name": "python",
   "nbconvert_exporter": "python",
   "pygments_lexer": "ipython3",
   "version": "3.12.4"
  }
 },
 "nbformat": 4,
 "nbformat_minor": 2
}
